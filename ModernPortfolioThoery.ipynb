{
 "cells": [
  {
   "cell_type": "code",
   "execution_count": null,
   "metadata": {},
   "outputs": [],
   "source": [
    "import numpy as np\n",
    "from scipy.optimize import minimize\n",
    "import yfinance as yf\n",
    "from datetime import datetime, timedelta\n",
    "import matplotlib.pyplot as plt"
   ]
  },
  {
   "cell_type": "code",
   "execution_count": null,
   "metadata": {},
   "outputs": [],
   "source": [
    "def get_stock_data(symbol, start_dt, end_dt):\n",
    "    stock_data = yf.download(symbol, start=start_dt, end=end_dt)\n",
    "    return stock_data"
   ]
  },
  {
   "cell_type": "code",
   "execution_count": null,
   "metadata": {},
   "outputs": [],
   "source": [
    "def ema(data, duration):\n",
    "    return data['Close'].ewm(span=duration, adjust=False).mean()"
   ]
  },
  {
   "cell_type": "code",
   "execution_count": null,
   "metadata": {},
   "outputs": [],
   "source": [
    "def objective_function(weights, cov_matrix, expected_returns, risk_aversion):\n",
    "    portfolio_variance = np.dot(weights.T, np.dot(cov_matrix, weights))\n",
    "    portfolio_return = np.dot(expected_returns, weights)\n",
    "    return -1 * (portfolio_return - risk_aversion * portfolio_variance)"
   ]
  },
  {
   "cell_type": "code",
   "execution_count": null,
   "metadata": {},
   "outputs": [],
   "source": [
    "def constraint(weights):\n",
    "    return np.sum(weights) - 1.0"
   ]
  },
  {
   "cell_type": "code",
   "execution_count": null,
   "metadata": {},
   "outputs": [],
   "source": [
    "def maximize_objective(expected_returns, covariance_matrix, risk_aversion):\n",
    "    num_assets = len(expected_returns)\n",
    "    initial_weights = np.ones((num_assets,)) / num_assets\n",
    "    bounds = tuple((0, 1) for asset in range(num_assets))\n",
    "    constraints = ({'type': 'eq', 'fun': constraint})\n",
    "    result = minimize(objective_function, initial_weights, args=(covariance_matrix, expected_returns.flatten(), risk_aversion), method='SLSQP', bounds=bounds, constraints=constraints)\n",
    "    return result.x"
   ]
  },
  {
   "cell_type": "code",
   "execution_count": null,
   "metadata": {},
   "outputs": [],
   "source": [
    "def select_portfolio(symbols, start_dt, end_dt):\n",
    "    portfolios = []\n",
    "\n",
    "    current_date = datetime.strptime(start_dt, '%Y-%m-%d')\n",
    "    end_date = datetime.strptime(end_dt, '%Y-%m-%d')\n",
    "\n",
    "    while current_date <= end_date:\n",
    "        current_month_start = current_date.replace(day=1)\n",
    "        next_month_start = (current_date + timedelta(days=32)).replace(day=1)  # Move to the next month\n",
    "\n",
    "        # Fetch stock data for the current month\n",
    "        stock_data_dict = {}\n",
    "        for symbol in symbols:\n",
    "            stock_data = get_stock_data(symbol, current_month_start, next_month_start)\n",
    "            if stock_data is not None and not stock_data.empty:\n",
    "                stock_data_dict[symbol] = stock_data\n",
    "\n",
    "        # Calculate EMAs and select stocks for the portfolio\n",
    "        portfolio = []\n",
    "        for symbol, stock_data in stock_data_dict.items():\n",
    "            monthly_data = stock_data.resample('D').first()\n",
    "\n",
    "            ema_9 = ema(monthly_data, 9).iloc[-1]\n",
    "            ema_21 = ema(monthly_data, 21).iloc[-1]\n",
    "\n",
    "            if ema_9 > ema_21:\n",
    "              portfolio.append(symbol)\n",
    "\n",
    "        # Append the portfolio to the list\n",
    "        portfolios.append((current_month_start, portfolio))\n",
    "\n",
    "        # Move to the next month\n",
    "        current_date = next_month_start\n",
    "\n",
    "    return portfolios"
   ]
  },
  {
   "cell_type": "code",
   "execution_count": null,
   "metadata": {},
   "outputs": [],
   "source": [
    "def get_optimal_weights(selected_portfolio, start_dt, end_dt, risk_aversion):\n",
    "    optimal_weights_list = []\n",
    "\n",
    "    for date, portfolio in selected_portfolio:\n",
    "        stock_data_dict = {}\n",
    "        for symbol in portfolio:\n",
    "            stock_data = get_stock_data(symbol, start_dt, end_dt)\n",
    "            if stock_data is not None and not stock_data.empty:\n",
    "                stock_data_dict[symbol] = stock_data\n",
    "\n",
    "        if not stock_data_dict:\n",
    "            continue  # Skip if no valid stock data\n",
    "\n",
    "        returns_matrix = np.vstack([np.log(stock_data_dict[symbol]['Close'] / stock_data_dict[symbol]['Close'].shift(1)).dropna().values for symbol in portfolio])\n",
    "\n",
    "        if returns_matrix.size == 0:\n",
    "            continue  # Skip if returns_matrix is empty\n",
    "\n",
    "        expected_returns = np.mean(returns_matrix, axis=1)\n",
    "        covariance_matrix = np.cov(returns_matrix)\n",
    "        expected_returns = expected_returns.reshape(-1, 1)\n",
    "        covariance_matrix = covariance_matrix + np.eye(len(expected_returns)) * 1e-6\n",
    "\n",
    "        optimal_weights = maximize_objective(expected_returns, covariance_matrix, risk_aversion)\n",
    "        optimal_weights_list.append((date, portfolio, optimal_weights))\n",
    "\n",
    "    return optimal_weights_list"
   ]
  },
  {
   "cell_type": "code",
   "execution_count": null,
   "metadata": {},
   "outputs": [],
   "source": [
    "def plot_pie_chart(date, portfolio, weights):\n",
    "    plt.figure(figsize=(8, 8))\n",
    "    plt.pie(weights, labels=portfolio, autopct='%1.1f%%', startangle=140)\n",
    "    plt.title(f'Portfolio Weightage for {date.strftime(\"%Y-%m-%d\")}')\n",
    "    plt.show()"
   ]
  },
  {
   "cell_type": "code",
   "execution_count": null,
   "metadata": {},
   "outputs": [],
   "source": [
    "def calculate_cagr(optimal_weights_list):  # Removed the portfolio_periods argument\n",
    "    cumulative_returns = []\n",
    "\n",
    "    for date, portfolio, weights in optimal_weights_list:\n",
    "        # Access start_dt and end_dt directly from the tuple\n",
    "        start_dt, end_dt = date, date + timedelta(days=32)\n",
    "\n",
    "        # Fetch stock data for the current portfolio period\n",
    "        stock_data_dict = {}\n",
    "        for symbol in portfolio:\n",
    "            if symbol not in stock_data_dict:\n",
    "                stock_data_dict[symbol] = get_stock_data(symbol, start_dt, end_dt)\n",
    "\n",
    "        if not stock_data_dict:\n",
    "            continue  # Skip if no valid stock data\n",
    "\n",
    "        daily_returns = np.vstack([np.log(stock_data_dict[symbol]['Close'] / stock_data_dict[symbol]['Close'].shift(1)).dropna().values for symbol in portfolio])\n",
    "\n",
    "        if daily_returns.size == 0:\n",
    "            continue  # Skip if returns_matrix is empty\n",
    "\n",
    "        # Calculate time-weighted returns for each portfolio\n",
    "        weighted_returns = np.average(daily_returns, axis=0, weights=weights)  # Use weighted average\n",
    "        cumulative_return = np.cumprod(1 + weighted_returns)[-1] - 1\n",
    "        cumulative_returns.append(cumulative_return)\n",
    "\n",
    "    # Compute the overall CAGR using the geometric mean of cumulative returns\n",
    "    net_cagr = (np.prod(1 + np.array(cumulative_returns)) ** (1 / len(cumulative_returns))) - 1\n",
    "\n",
    "    return net_cagr"
   ]
  },
  {
   "cell_type": "code",
   "execution_count": null,
   "metadata": {},
   "outputs": [],
   "source": [
    "def plot_pie_chart(date, portfolio, weights):\n",
    "    plt.figure(figsize=(8, 8))\n",
    "    plt.pie(weights, labels=portfolio, autopct='%1.1f%%', startangle=140)\n",
    "    plt.title(f'Portfolio Weightage for {date.strftime(\"%Y-%m-%d\")}')\n",
    "    plt.show()\n",
    "\n",
    "ecommerce_symbols = ['AMZN', 'BABA', 'EBAY', 'MELI', 'PDD', 'RKUNF', 'SHOP']\n",
    "banks_symbols = ['SBIN.NS', 'HDFCBANK.NS', 'ICICIBANK.NS', 'AXISBANK.NS', 'KOTAKBANK.NS', 'PNB.NS', 'BANKBARODA.NS']\n",
    "automobiles_symbols = ['TSLA', 'TM', 'GM', 'F', 'STLA', 'HMC', 'RACE']\n",
    "aviation_symbols = ['BA', 'LMT', 'HON', 'ESLT', 'RTX', 'NOC', 'TDG']\n",
    "oil_symbols = ['SLB', 'CVX', 'EQNR', 'XOM', 'COP', 'TTE', 'BP']\n",
    "start_dt = '2019-05-01'\n",
    "end_dt = '2022-05-01'\n",
    "\n",
    "i = int(input(\" E-Commerce: 1 \\n Banks: 2 \\n Automobiles: 3 \\n Aviation: 4 \\n Oil: 5 \\n Enter the sector you wish to use: \"))\n",
    "if i == 1:\n",
    "    symbols = ecommerce_symbols\n",
    "elif i ==2:\n",
    "    symbols = banks_symbols\n",
    "elif i == 3:\n",
    "    symbols = automobiles_symbols\n",
    "elif i == 4:\n",
    "    symbols = aviation_symbols\n",
    "elif i == 5:\n",
    "    symbols = oil_symbols\n",
    "\n",
    "resulting_portfolios = select_portfolio(symbols, start_dt, end_dt)\n",
    "\n",
    "risk_aversion_parameter = float(input(\"Enter the risk aversion parameter: \"))"
   ]
  },
  {
   "cell_type": "code",
   "execution_count": null,
   "metadata": {},
   "outputs": [],
   "source": [
    "optimal_weights_list = get_optimal_weights(resulting_portfolios, start_dt, end_dt, risk_aversion_parameter)"
   ]
  },
  {
   "cell_type": "code",
   "execution_count": null,
   "metadata": {},
   "outputs": [],
   "source": [
    "print(\"Optimized Portfolios:\")\n",
    "\n",
    "for date, portfolio, weights in optimal_weights_list:\n",
    "    print(f\"\\nPortfolio for {date.strftime('%Y-%m-%d')}: {portfolio}\")\n",
    "    print(\"\\n\")\n",
    "    print(f\"Optimal Weights: {weights}\")\n",
    "    print(\"\\n\")\n",
    "    plot_pie_chart(date, portfolio, weights)\n",
    "    print(\"\\n\")"
   ]
  },
  {
   "cell_type": "code",
   "execution_count": null,
   "metadata": {},
   "outputs": [],
   "source": [
    "portfolio_periods = []\n",
    "for date, portfolio, weights in optimal_weights_list:\n",
    "    portfolio_periods.append((date, portfolio, weights))"
   ]
  },
  {
   "cell_type": "code",
   "execution_count": null,
   "metadata": {},
   "outputs": [],
   "source": [
    "net_cagr = calculate_cagr(optimal_weights_list)\n",
    "if net_cagr is not None:\n",
    "    print(\"\\n\")\n",
    "    print(f\"Net CAGR for the entire duration: {net_cagr * 100:.2f}%\")\n",
    "else:\n",
    "    print(\"Net CAGR: Not Calculated (Incomplete Data)\")"
   ]
  },
  {
   "cell_type": "code",
   "execution_count": null,
   "metadata": {},
   "outputs": [],
   "source": []
  }
 ],
 "metadata": {
  "language_info": {
   "name": "python"
  }
 },
 "nbformat": 4,
 "nbformat_minor": 2
}
