{
 "cells": [
  {
   "cell_type": "code",
   "execution_count": null,
   "metadata": {},
   "outputs": [],
   "source": [
    "import pandas as pd\n",
    "import numpy as np\n",
    "import matplotlib.pyplot as plt\n",
    "import datetime as dt\n",
    "import yfinance as yf"
   ]
  },
  {
   "cell_type": "code",
   "execution_count": null,
   "metadata": {},
   "outputs": [],
   "source": [
    "def get_data(stocks, start, end):\n",
    "  stockData = yf.download(stocks, start=start, end=end)['Close']\n",
    "  returns = stockData.pct_change()\n",
    "  meanReturns = returns.mean()\n",
    "  covMatrix = returns.cov()\n",
    "  return meanReturns, covMatrix"
   ]
  },
  {
   "cell_type": "code",
   "execution_count": null,
   "metadata": {},
   "outputs": [],
   "source": [
    "def cagr(initial, final, years):\n",
    "  return ((final / initial) ** (1 / years) - 1)*100"
   ]
  },
  {
   "cell_type": "code",
   "execution_count": null,
   "metadata": {},
   "outputs": [],
   "source": [
    "stocklist = ['AMZN', 'BABA', 'EBAY', 'SHOP', 'RKUNF', 'PDD', 'MELI']\n",
    "stocks = [stock for stock in stocklist]\n",
    "startDate = '2019-05-01'\n",
    "endDate = '2022-05-01'\n",
    "meanReturns, covMatrix = get_data(stocks, startDate, endDate)\n",
    "\n",
    "weights = np.random.random(len(meanReturns))\n",
    "weights /= np.sum(weights)\n",
    "\n",
    "mc_sims = 100\n",
    "T=100\n",
    "\n",
    "meanM = np.full(shape=(T,len(weights)),fill_value=meanReturns)\n",
    "meanM = meanM.T\n",
    "\n",
    "portfolio_sims = np.full(shape=(T,mc_sims),fill_value=0.0)\n",
    "\n",
    "initialPortfolio = 10000"
   ]
  },
  {
   "cell_type": "code",
   "execution_count": null,
   "metadata": {},
   "outputs": [],
   "source": [
    "for m in range(0, mc_sims):\n",
    "  Z = np.random.normal(size=(T ,len(weights)))\n",
    "  L = np.linalg.cholesky(covMatrix)\n",
    "  dailyReturns = meanM + np.inner(L,Z)\n",
    "  portfolio_sims[:,m] = np.cumprod(np.inner(weights,dailyReturns.T)+1)*initialPortfolio\n",
    "\n",
    "final_portfolio_value = portfolio_sims[-1,:]\n",
    "\n",
    "maxfinalportfolio = max(final_portfolio_value)"
   ]
  },
  {
   "cell_type": "code",
   "execution_count": null,
   "metadata": {},
   "outputs": [],
   "source": [
    "#investment time calc\n",
    "startDateObj = dt.datetime.strptime(startDate, '%Y-%m-%d')\n",
    "endDateObj = dt.datetime.strptime(endDate, '%Y-%m-%d')\n",
    "date_diff = endDateObj - startDateObj\n",
    "years_diff = date_diff.days / 365\n",
    "\n",
    "cagr_list = []"
   ]
  },
  {
   "cell_type": "code",
   "execution_count": null,
   "metadata": {},
   "outputs": [],
   "source": [
    "for f in final_portfolio_value:\n",
    "  cagr_value = cagr(initialPortfolio, f, years_diff)\n",
    "  cagr_list.append(cagr_value)\n",
    "\n",
    "average_cagr = sum(cagr_list) / len(cagr_list)\n",
    "print(\"The average cagr comes out to be : \",average_cagr,\"%\")\n",
    "\n",
    "max_cagr = cagr(initialPortfolio,maxfinalportfolio,years_diff)\n",
    "\n",
    "print(\"The maximum cagr comes out to be : \",max_cagr,\"%\")"
   ]
  },
  {
   "cell_type": "code",
   "execution_count": null,
   "metadata": {},
   "outputs": [],
   "source": [
    "plt.plot(portfolio_sims)\n",
    "plt.ylabel('portfolio Value ($)')\n",
    "plt.xlabel('Days')\n",
    "plt.title('MC simulation of a stock portfolio')\n",
    "plt.show()"
   ]
  }
 ],
 "metadata": {
  "language_info": {
   "name": "python"
  }
 },
 "nbformat": 4,
 "nbformat_minor": 2
}
